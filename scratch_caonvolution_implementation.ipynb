{
 "cells": [
  {
   "cell_type": "code",
   "execution_count": 55,
   "metadata": {},
   "outputs": [],
   "source": [
    "import numpy as np\n",
    "import torch\n",
    "import torch.nn as nn"
   ]
  },
  {
   "cell_type": "code",
   "execution_count": 3,
   "metadata": {},
   "outputs": [],
   "source": [
    "X=np.random.rand(1,1,10,10)\n",
    "W=np.random.rand(1,1,3,3)\n",
    "b=0"
   ]
  },
  {
   "cell_type": "code",
   "execution_count": 50,
   "metadata": {},
   "outputs": [],
   "source": [
    "def scratch_convolution(image, kernel,b, st=1, pad=1):\n",
    "    num_ker, ch_ker, height_ker, width_ker=kernel.shape\n",
    "    num_img, ch_img, height_img, width_img=image.shape\n",
    "    p=pad\n",
    "\n",
    "    out_width=int((width_img-width_ker+2*p)/st+1)\n",
    "    out_height=int((height_img-height_ker+2*p)/st+1)\n",
    "    \n",
    "    image_padded=np.pad(image, ((0,0),(0,0),(1,1),(1,1)), mode='constant')\n",
    "    \n",
    "    i0=np.repeat(np.arange(height_ker),width_ker)\n",
    "    i1=np.repeat(np.arange(height_img),width_img)\n",
    "    j0=np.tile(np.arange(height_ker),width_ker)\n",
    "    j1=np.tile(np.arange(height_img),width_img)\n",
    "\n",
    "    i=i0.reshape(-1,1)+i1.reshape(1,-1)\n",
    "    j=j0.reshape(-1,1)+j1.reshape(1,-1)\n",
    "    k=np.repeat(np.arange(ch_ker),height_ker*width_ker).reshape(-1,1)\n",
    "    \n",
    "    taken_img=image_padded[:,k,i,j].transpose(1,2,0).reshape(height_ker*width_ker,-1)\n",
    "    weights=kernel.reshape(1,-1)\n",
    "    convolve=weights@taken_img+b\n",
    "    \n",
    "    out=convolve.reshape(num_img,ch_img,out_height,out_width)\n",
    "    return out"
   ]
  },
  {
   "cell_type": "code",
   "execution_count": 51,
   "metadata": {},
   "outputs": [],
   "source": [
    "store= scratch_convolution(X,W,b)\n",
    "store=np.squeeze(store)"
   ]
  },
  {
   "cell_type": "code",
   "execution_count": 52,
   "metadata": {},
   "outputs": [
    {
     "data": {
      "text/plain": [
       "<matplotlib.image.AxesImage at 0x7efdf4827470>"
      ]
     },
     "execution_count": 52,
     "metadata": {},
     "output_type": "execute_result"
    },
    {
     "data": {
      "image/png": "[encoded data removed]",
      "text/plain": [
       "<Figure size 432x288 with 1 Axes>"
      ]
     },
     "metadata": {
      "needs_background": "light"
     },
     "output_type": "display_data"
    }
   ],
   "source": [
    "plt.imshow(store, cmap='gray')"
   ]
  },
  {
   "cell_type": "code",
   "execution_count": 53,
   "metadata": {},
   "outputs": [],
   "source": [
    "def conv3x3(in_ch,out_ch,stride=1):\n",
    "    return nn.Conv2d(in_ch,out_ch, kernel_size=3, stride=stride, padding=1, bias=False)"
   ]
  },
  {
   "cell_type": "code",
   "execution_count": 56,
   "metadata": {},
   "outputs": [],
   "source": [
    "class Resblock(nn.Module):\n",
    "    def __init__(self, channels):\n",
    "        super().__init__()\n",
    "        self.block=nn.Sequential(conv3x3(channels, channels),\n",
    "                                nn.BatchNorm2d(channels),\n",
    "                                nn.ReLU(True),\n",
    "                                conv3x3(channels, channels),\n",
    "                                nn.BatchNorm2d(channels))\n",
    "        self.relu=nn.ReLU(inplace=True)\n",
    "\n",
    "    def forward(self,x):\n",
    "        identity= x\n",
    "        print (f'identity {identity}')\n",
    "        out= self.block(x)\n",
    "        print (f'initial {out}')\n",
    "        out += identity\n",
    "        print (f'final {out}')\n",
    "        out= self.relu(out)\n",
    "        \n",
    "        return out"
   ]
  },
  {
   "cell_type": "code",
   "execution_count": 57,
   "metadata": {},
   "outputs": [
    {
     "data": {
      "text/plain": [
       "Resblock(\n",
       "  (block): Sequential(\n",
       "    (0): Conv2d(1, 1, kernel_size=(3, 3), stride=(1, 1), padding=(1, 1), bias=False)\n",
       "    (1): BatchNorm2d(1, eps=1e-05, momentum=0.1, affine=True, track_running_stats=True)\n",
       "    (2): ReLU(inplace=True)\n",
       "    (3): Conv2d(1, 1, kernel_size=(3, 3), stride=(1, 1), padding=(1, 1), bias=False)\n",
       "    (4): BatchNorm2d(1, eps=1e-05, momentum=0.1, affine=True, track_running_stats=True)\n",
       "  )\n",
       "  (relu): ReLU(inplace=True)\n",
       ")"
      ]
     },
     "execution_count": 57,
     "metadata": {},
     "output_type": "execute_result"
    }
   ],
   "source": [
    "ress=Resblock(1)\n",
    "ress"
   ]
  },
  {
   "cell_type": "code",
   "execution_count": null,
   "metadata": {},
   "outputs": [],
   "source": []
  }
 ],
 "metadata": {
  "kernelspec": {
   "display_name": "Python 3",
   "language": "python",
   "name": "python3"
  },
  "language_info": {
   "codemirror_mode": {
    "name": "ipython",
    "version": 3
   },
   "file_extension": ".py",
   "mimetype": "text/x-python",
   "name": "python",
   "nbconvert_exporter": "python",
   "pygments_lexer": "ipython3",
   "version": "3.6.9"
  }
 },
 "nbformat": 4,
 "nbformat_minor": 2
}
