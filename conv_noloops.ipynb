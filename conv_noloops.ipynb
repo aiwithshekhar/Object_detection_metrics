{
 "cells": [
  {
   "cell_type": "code",
   "execution_count": 1,
   "metadata": {},
   "outputs": [],
   "source": [
    "# import torch\n",
    "import numpy as np\n",
    "import matplotlib.pyplot as plt"
   ]
  },
  {
   "cell_type": "code",
   "execution_count": 2,
   "metadata": {},
   "outputs": [],
   "source": [
    "img=np.random.rand(1,1,10,10)\n",
    "ker=np.random.rand(1,1,3,3)"
   ]
  },
  {
   "cell_type": "code",
   "execution_count": 3,
   "metadata": {},
   "outputs": [],
   "source": [
    "# '''\n",
    "# All the cooresponding receptive feilds locations are stored in a cloumn in matrix\n",
    "# 00  01 ....\n",
    "# 01  02 ....\n",
    "# 02  03 ....   ____________________\n",
    "# 10  11 ....   |  00 |  01 |  02  |\n",
    "# 11  12 ....   |-----|-----|------| \n",
    "# 12  13 ....   |  10 |  11 |  12  |\n",
    "# 20  21 ....   |-----|-----|------|\n",
    "# 21  22 ....   |  20 |  21 |  22  |             \n",
    "# 22  23 ....   |_____|_____|______|                   \n",
    "# '''"
   ]
  },
  {
   "cell_type": "code",
   "execution_count": 4,
   "metadata": {},
   "outputs": [],
   "source": [
    "class class_conv():\n",
    "    def __init__(self, img, ker, b, pad=1, stride=1):\n",
    "        \n",
    "        self.img_b, self.img_d, self.img_h, self.img_w=img.shape\n",
    "        self.ker_b, self.ker_d, self.ker_h, self.ker_w=ker.shape\n",
    "        self.b, self.pad, self.stride, self.img, self.ker=b, pad, stride, img, ker\n",
    "        \n",
    "    def __call__(self):\n",
    "        self.out=self.forward(self.img, self.ker)\n",
    "        return self.out\n",
    "    \n",
    "    def forward(self): raise Exception('Not Implemented')\n",
    "    def backward(self): return self.bwd(self.out)"
   ]
  },
  {
   "cell_type": "code",
   "execution_count": 5,
   "metadata": {},
   "outputs": [],
   "source": [
    "class cunny(class_conv):\n",
    "    def forward(self, img, ker):\n",
    "        self.out_h= int((self.img_h-self.ker_h)+(2*self.pad)/self.stride) +1\n",
    "        self.out_w= int((self.img_w-self.ker_w)+(2*self.pad)/self.stride) +1\n",
    "\n",
    "        pad_img=np.pad(img, ((0,0),(0,0),(1,1),(1,1)),mode='constant')\n",
    "\n",
    "        i0=np.repeat(np.arange(self.ker_h), self.ker_h)\n",
    "        i1=np.repeat(np.arange(self.img_h), self.img_h)\n",
    "        j0=np.tile(np.arange(self.ker_w), self.ker_h)\n",
    "        j1=np.tile(np.arange(self.img_h), self.img_w)\n",
    "        self.i=i0.reshape(-1,1)+i1.reshape(1,-1)\n",
    "        self.j=j0.reshape(-1,1)+j1.reshape(1,-1)\n",
    "        self.k=np.repeat(np.arange(self.img_d), self.ker_h*self.ker_w).reshape(-1,1)\n",
    "\n",
    "        self.select_img=pad_img[:,:,self.i,self.j].squeeze()      #[1,9,100] gets converted to [9,100]\n",
    "        weights=ker.reshape(self.ker_h*self.ker_w, -1)       #weights gets converted to [9,1]\n",
    "        convolve=weights.transpose()@self.select_img    # [1,9] * [9,100] ----> [1,100]\n",
    "        convolve=convolve.reshape(1,1,10,10)       # [1,1,10,10]\n",
    "        return convolve\n",
    "    \n",
    "    def bwd(self, out):\n",
    "        \n",
    "        out_h= self.img_h + 2 * self.pad \n",
    "        out_w= self.img_w + 2 * self.pad\n",
    "\n",
    "        db=np.sum(out, axis=(0,2,3))\n",
    "        db=db.reshape(self.ker_b, -1)\n",
    "\n",
    "        out_reshape=out.squeeze().reshape(self.ker_b, -1)\n",
    "        dw=out_reshape @ self.select_img.T\n",
    "        dw=dw.reshape(ker.shape)\n",
    "\n",
    "        ker_reshape=self.ker.reshape(self.ker_b, -1)\n",
    "        X= ker_reshape.T @ out_reshape\n",
    "\n",
    "        padded=np.zeros((self.img_b, self.img_d, out_h, out_w), dtype=X.dtype)\n",
    "        X_reshaped=X.reshape(self.ker_h*self.ker_w, -1, self.ker_b)\n",
    "        X_reshaped=X_reshaped.transpose(2,0,1)\n",
    "\n",
    "        np.add.at(padded, (slice(None), self.k, self.i, self.j), X_reshaped)\n",
    "        dX=padded[:,:,self.pad:-self.pad, self.pad:-self.pad]\n",
    "\n",
    "        return dX, dw, db"
   ]
  },
  {
   "cell_type": "code",
   "execution_count": 6,
   "metadata": {},
   "outputs": [],
   "source": [
    "c=cunny(img, ker, 0)"
   ]
  },
  {
   "cell_type": "code",
   "execution_count": 7,
   "metadata": {},
   "outputs": [],
   "source": [
    "forward=c()"
   ]
  },
  {
   "cell_type": "code",
   "execution_count": 8,
   "metadata": {},
   "outputs": [],
   "source": [
    "inp_g, we_g, bias_g=c.backward()"
   ]
  },
  {
   "cell_type": "code",
   "execution_count": 9,
   "metadata": {},
   "outputs": [],
   "source": [
    "# forward.shape"
   ]
  },
  {
   "cell_type": "code",
   "execution_count": 10,
   "metadata": {},
   "outputs": [
    {
     "data": {
      "text/plain": [
       "<matplotlib.image.AxesImage at 0x7ff556815a20>"
      ]
     },
     "execution_count": 10,
     "metadata": {},
     "output_type": "execute_result"
    },
    {
     "data": {
      "image/png": "[encoded data removed]",
      "text/plain": [
       "<Figure size 432x288 with 1 Axes>"
      ]
     },
     "metadata": {
      "needs_background": "light"
     },
     "output_type": "display_data"
    }
   ],
   "source": [
    "plt.imshow(we_g.squeeze())"
   ]
  }
 ],
 "metadata": {
  "kernelspec": {
   "display_name": "Python 3",
   "language": "python",
   "name": "python3"
  },
  "language_info": {
   "codemirror_mode": {
    "name": "ipython",
    "version": 3
   },
   "file_extension": ".py",
   "mimetype": "text/x-python",
   "name": "python",
   "nbconvert_exporter": "python",
   "pygments_lexer": "ipython3",
   "version": "3.6.9"
  }
 },
 "nbformat": 4,
 "nbformat_minor": 4
}
