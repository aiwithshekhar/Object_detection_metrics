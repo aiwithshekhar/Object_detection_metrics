{
 "cells": [
  {
   "cell_type": "code",
   "execution_count": 1,
   "metadata": {},
   "outputs": [],
   "source": [
    "# import torch\n",
    "import numpy as np\n",
    "import matplotlib.pyplot as plt"
   ]
  },
  {
   "cell_type": "code",
   "execution_count": 2,
   "metadata": {},
   "outputs": [],
   "source": [
    "img=np.random.rand(1,1,10,10)\n",
    "ker=np.random.rand(1,1,3,3)"
   ]
  },
  {
   "cell_type": "code",
   "execution_count": 3,
   "metadata": {},
   "outputs": [],
   "source": [
    "# '''\n",
    "# All the cooresponding receptive feilds locations are stored in a cloumn in matrix\n",
    "# 00  01 ....\n",
    "# 01  02 ....\n",
    "# 02  03 ....   ____________________\n",
    "# 10  11 ....   |  00 |  01 |  02  |\n",
    "# 11  12 ....   |-----|-----|------| \n",
    "# 12  13 ....   |  10 |  11 |  12  |\n",
    "# 20  21 ....   |-----|-----|------|\n",
    "# 21  22 ....   |  20 |  21 |  22  |             \n",
    "# 22  23 ....   |_____|_____|______|                   \n",
    "# '''"
   ]
  },
  {
   "cell_type": "code",
   "execution_count": 4,
   "metadata": {},
   "outputs": [],
   "source": [
    "def conv(img, ker, b, pad=1, stride=1):\n",
    "    img_ba, img_dep, img_h, img_w= img.shape\n",
    "    ker_ba, ker_dep, ker_h, ker_w= ker.shape\n",
    "    \n",
    "    out_h= int((img_h-ker_h)+(2*pad)/stride) +1\n",
    "    out_w= int((img_w-ker_w)+(2*pad)/stride) +1\n",
    "    \n",
    "    pad_img=np.pad(img, ((0,0),(0,0),(1,1),(1,1)),mode='constant')\n",
    "    \n",
    "    i0=np.repeat(np.arange(ker_h), ker_h)\n",
    "    i1=np.repeat(np.arange(img_h), img_w)\n",
    "    \n",
    "    j0=np.tile(np.arange(ker_w), ker_h)\n",
    "    j1=np.tile(np.arange(img_h), img_w)\n",
    "    \n",
    "    i=i0.reshape(-1,1)+i1.reshape(1,-1)\n",
    "    j=j0.reshape(-1,1)+j1.reshape(1,-1)\n",
    "    \n",
    "    k=np.repeat(np.arange(img_dep), ker_h*ker_w).reshape(-1,1)\n",
    "    \n",
    "    select_img=pad_img[:,k,i,j].squeeze()      #[1,9,100] gets converted to [9,100]\n",
    "    weights=ker.reshape(ker_h*ker_w, -1)       #weights gets converted to [9,1]\n",
    "    convolve=weights.transpose()@select_img    # [1,9] * [9,100] ----> [1,100]\n",
    "    convolve=convolve.reshape(1,1,10,10)\n",
    "    \n",
    "    cache=(img, ker, b, pad, stride, select_img)\n",
    "    return convolve, cache"
   ]
  },
  {
   "cell_type": "code",
   "execution_count": 60,
   "metadata": {},
   "outputs": [],
   "source": [
    "def backward(out, cache):\n",
    "    img, ker, b, pad, stride, select_img=cache\n",
    "    img_b, img_d, img_h, img_w=img.shape\n",
    "    ker_b, ker_d, ker_h, ker_w=ker.shape\n",
    "    \n",
    "    out_h= img_h + 2 * pad \n",
    "    out_w= img_w + 2 * pad\n",
    "    \n",
    "    db=np.sum(out, axis=(0,2,3))\n",
    "    db=db.reshape(ker_b, -1)\n",
    "    \n",
    "    out_reshape=out.squeeze().reshape(ker_b, -1)\n",
    "    dw=out_reshape @ select_img.T\n",
    "    dw=dw.reshape(ker.shape)\n",
    "    \n",
    "    ker_reshape=ker.reshape(ker_b, -1)\n",
    "    X= ker_reshape.T @ out_reshape\n",
    "    \n",
    "    i0=np.repeat(np.arange(ker_h), ker_h)\n",
    "    i1=np.repeat(np.arange(img_h), img_w)\n",
    "    \n",
    "    j0=np.tile(np.arange(ker_w), ker_h)\n",
    "    j1=np.tile(np.arange(img_h), img_w)\n",
    "    \n",
    "    i=i0.reshape(-1,1)+i1.reshape(1,-1)\n",
    "    j=j0.reshape(-1,1)+j1.reshape(1,-1)\n",
    "    \n",
    "    k=np.repeat(np.arange(img_d), ker_h*ker_w).reshape(-1,1)\n",
    "    \n",
    "    padded=np.zeros((img_b, img_d, out_h, out_w), dtype=X.dtype)\n",
    "    X_reshaped=X.reshape(ker_h*ker_w, -1, ker_b)\n",
    "    X_reshaped=X_reshaped.transpose(2,0,1)\n",
    "    \n",
    "    np.add.at(padded, (slice(None), k, i, j), X_reshaped)\n",
    "    dX=padded[:,:,pad:-pad, pad:-pad]\n",
    "#     print (dX.shape, dw.shape, db.shape, )\n",
    "    return dX, dw, db"
   ]
  },
  {
   "cell_type": "code",
   "execution_count": 61,
   "metadata": {},
   "outputs": [],
   "source": [
    "o, c=conv(img, ker, 0.)\n",
    "inp_g, w_g, b_g=backward(o, c)"
   ]
  },
  {
   "cell_type": "code",
   "execution_count": 65,
   "metadata": {},
   "outputs": [
    {
     "data": {
      "text/plain": [
       "<matplotlib.image.AxesImage at 0x7f3a96356350>"
      ]
     },
     "execution_count": 65,
     "metadata": {},
     "output_type": "execute_result"
    },
    {
     "data": {
      "image/png": "[encoded data removed]",
      "text/plain": [
       "<Figure size 432x288 with 1 Axes>"
      ]
     },
     "metadata": {
      "needs_background": "light"
     },
     "output_type": "display_data"
    }
   ],
   "source": [
    "plt.imshow(inp_g.squeeze())"
   ]
  },
  {
   "cell_type": "code",
   "execution_count": 66,
   "metadata": {},
   "outputs": [
    {
     "data": {
      "text/plain": [
       "<matplotlib.image.AxesImage at 0x7f3a952007d0>"
      ]
     },
     "execution_count": 66,
     "metadata": {},
     "output_type": "execute_result"
    },
    {
     "data": {
      "image/png": "[encoded data removed]",
      "text/plain": [
       "<Figure size 432x288 with 1 Axes>"
      ]
     },
     "metadata": {
      "needs_background": "light"
     },
     "output_type": "display_data"
    }
   ],
   "source": [
    "plt.imshow(w_g.squeeze())"
   ]
  },
  {
   "cell_type": "code",
   "execution_count": null,
   "metadata": {},
   "outputs": [],
   "source": []
  }
 ],
 "metadata": {
  "kernelspec": {
   "display_name": "Python 3",
   "language": "python",
   "name": "python3"
  },
  "language_info": {
   "codemirror_mode": {
    "name": "ipython",
    "version": 3
   },
   "file_extension": ".py",
   "mimetype": "text/x-python",
   "name": "python",
   "nbconvert_exporter": "python",
   "pygments_lexer": "ipython3",
   "version": "3.7.6"
  }
 },
 "nbformat": 4,
 "nbformat_minor": 4
}
